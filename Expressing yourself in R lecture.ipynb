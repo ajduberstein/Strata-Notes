{
 "metadata": {
  "name": ""
 },
 "nbformat": 3,
 "nbformat_minor": 0,
 "worksheets": [
  {
   "cells": [
    {
     "cell_type": "markdown",
     "metadata": {},
     "source": [
      "#Expressing yourself in R\n",
      "*Hadley Wickham of R Studio*\n",
      "\n",
      "##Why Programming?\n",
      "Code lets us reproduce, automate, and communicate solutions.\n",
      "\n",
      "##Why R?\n",
      "R, in particular, allows for quick tidying, transformation, visualizing, and modeling.\n",
      "\n",
      "##dplyr, ggvis\n",
      "- Goal: Make it easy to use R at scale. Fit a billion rows in memory.\n",
      "- select, filter, mutate, summarize, and arrange are the five main operations of data analysis, states Wickham.\n",
      "  - Select: subset variables\n",
      "  - Filter: subset rows\n",
      "  - Mutate: add new columns\n",
      "  - Summarize: Reduce to a single row\n",
      "  - Arrange: Re-order the rows\n",
      "\n",
      "###dplyr\n",
      "- RDS files made it easy to work with a large data set\n",
      "<code>\n",
      "logs <- readRDS(\"logs.rds\") %.% filter(date < as.Date(\"2012-01-01\"))\n",
      "system.time(/*CODE*/) clocks it\n",
      "</code>\n",
      "- dplyr behaves a great deal like SQL\n",
      "- \"You should be able to work with about a billion rows of data with R\"\n",
      "- dplyr can handle dfs, tables, cubes, RDMS, BigQuery\n",
      "- dplyr can take R code and translate it to SQL\n",
      "\n",
      "###ggviz\n",
      "- Graphics of the web (Vega based)\n",
      "- Fully interactive, opens in the browser\n",
      "- Don't use it in production yet"
     ]
    },
    {
     "cell_type": "markdown",
     "metadata": {},
     "source": []
    }
   ],
   "metadata": {}
  }
 ]
}